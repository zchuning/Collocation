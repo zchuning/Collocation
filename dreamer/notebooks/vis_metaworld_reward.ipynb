{
 "cells": [
  {
   "cell_type": "code",
   "execution_count": 1,
   "metadata": {},
   "outputs": [
    {
     "name": "stdout",
     "output_type": "stream",
     "text": [
      "Choosing the latest nvidia driver: /usr/lib/nvidia-418, among ['/usr/lib/nvidia-375', '/usr/lib/nvidia-418']\n",
      "Choosing the latest nvidia driver: /usr/lib/nvidia-418, among ['/usr/lib/nvidia-375', '/usr/lib/nvidia-418']\n"
     ]
    },
    {
     "name": "stderr",
     "output_type": "stream",
     "text": [
      "Warning: Flow failed to import. Set the environment variable D4RL_SUPPRESS_IMPORT_ERROR=1 to suppress this message.\n",
      "No module named 'flow'\n",
      "Warning: CARLA failed to import. Set the environment variable D4RL_SUPPRESS_IMPORT_ERROR=1 to suppress this message.\n",
      "No module named 'carla'\n"
     ]
    }
   ],
   "source": [
    "import argparse\n",
    "import collections\n",
    "import functools\n",
    "import json\n",
    "import imageio\n",
    "import os\n",
    "import pathlib\n",
    "import sys\n",
    "import time\n",
    "from PIL import Image\n",
    "import skvideo.io\n",
    "import matplotlib\n",
    "\n",
    "os.environ['TF_CPP_MIN_LOG_LEVEL'] = '3'\n",
    "os.environ['MUJOCO_GL'] = 'egl'\n",
    "\n",
    "import numpy as np\n",
    "import matplotlib.pyplot as plt\n",
    "import tensorflow as tf\n",
    "from tensorflow.keras.mixed_precision import experimental as prec\n",
    "from blox.utils import AverageMeter, timing\n",
    "from blox.basic_types import map_dict\n",
    "import time\n",
    "import matplotlib.pyplot as plt\n",
    "\n",
    "tf.get_logger().setLevel('ERROR')\n",
    "\n",
    "from tensorflow_probability import distributions as tfd\n",
    "\n",
    "from utils import models, tools, wrappers, logging\n",
    "from dreamer import Dreamer, preprocess, make_bare_env\n",
    "import dreamer\n",
    "from planners import gn_solver, gn_solver_goal\n",
    "from dreamer_colloc import DreamerColloc, make_env\n",
    "import dreamer_colloc\n",
    "\n",
    "def define_config():\n",
    "  config = dreamer_colloc.define_config()\n",
    "  return config"
   ]
  },
  {
   "cell_type": "code",
   "execution_count": 2,
   "metadata": {},
   "outputs": [
    {
     "name": "stdout",
     "output_type": "stream",
     "text": [
      "Logdir logdir/mw_push/collect_sparse_rewards_300k\n"
     ]
    }
   ],
   "source": [
    "# Parse arguments\n",
    "try:\n",
    "  import colored_traceback\n",
    "  colored_traceback.add_hook()\n",
    "except ImportError:\n",
    "  pass\n",
    "parser = argparse.ArgumentParser()\n",
    "for key, value in define_config().items():\n",
    "  parser.add_argument(f'--{key}', type=tools.args_type(value), default=value)\n",
    "# args = \\\n",
    "# '--logdir ./logdir/mw_pickplace/dreamer_vis_online_gd200_fixed \\\n",
    "# --task mw_sawyer_SawyerPickPlaceEnvV2 \\\n",
    "# --action_repeat 1 \\\n",
    "# --time_limit 120 \\\n",
    "# --planning_task colloc_second_order \\\n",
    "# --planning_horizon 40 \\\n",
    "# --mpc_steps 40 \\\n",
    "# --gd_steps 200 \\\n",
    "# --logdir_colloc ./logdir_colloc/mw_pickplace/dreamer_vis_online_gd200_fixed \\\n",
    "# --rew_res_wt 1 \\\n",
    "# --dyn_threshold 1e-5 \\\n",
    "# --act_threshold 1e-5 \\\n",
    "# --coeff_normalization 1 \\\n",
    "# --eval_tasks 1 \\\n",
    "# --collect_sparse_reward True \\\n",
    "# --state_regressor True \\\n",
    "# --use_sparse_reward True'\n",
    "\n",
    "# args = \\\n",
    "# '--logdir ./logdir/mw_push/dreamer_vis_online_gd200_fixed \\\n",
    "# --task mw_sawyer_SawyerPushEnvV2 \\\n",
    "# --action_repeat 1 \\\n",
    "# --time_limit 120 \\\n",
    "# --planning_task colloc_second_order \\\n",
    "# --planning_horizon 40 \\\n",
    "# --mpc_steps 20 \\\n",
    "# --gd_steps 200 \\\n",
    "# --logdir_colloc ./logdir_colloc/mw_push/1 \\\n",
    "# --rew_res_wt 1 \\\n",
    "# --dyn_threshold 1e-5 \\\n",
    "# --act_threshold 1e-5 \\\n",
    "# --coeff_normalization 1 \\\n",
    "# --eval_tasks 1 \\\n",
    "# --collect_sparse_reward True \\\n",
    "# --state_regressor True \\\n",
    "# --use_sparse_reward True'\n",
    "args = '--logdir ./logdir/mw_push/collect_sparse_rewards_300k --task mw_sawyer_SawyerPushEnvV2 --action_repeat=1 --time_limit=30 --batch_length=20'\n",
    "config = parser.parse_args(args.split(' '))\n",
    "\n",
    "if config.gpu_growth:\n",
    "  for gpu in tf.config.experimental.list_physical_devices('GPU'):\n",
    "    tf.config.experimental.set_memory_growth(gpu, True)\n",
    "assert config.precision in (16, 32), config.precision\n",
    "if config.precision == 16:\n",
    "  prec.set_policy(prec.Policy('mixed_float16'))\n",
    "config.steps = int(config.steps)\n",
    "config.logdir.mkdir(parents=True, exist_ok=True)\n",
    "print('Logdir', config.logdir)\n",
    "config.logdir_colloc.mkdir(parents=True, exist_ok=True)"
   ]
  },
  {
   "cell_type": "code",
   "execution_count": 3,
   "metadata": {},
   "outputs": [
    {
     "name": "stderr",
     "output_type": "stream",
     "text": [
      "/nfs/kun1/users/oleg/anaconda3_nfs/envs/tf2/lib/python3.7/site-packages/gym/logger.py:30: UserWarning: \u001b[33mWARN: Box bound precision lowered by casting to float32\u001b[0m\n",
      "  warnings.warn(colorize('%s: %s'%('WARN', msg % args), 'yellow'))\n"
     ]
    },
    {
     "name": "stdout",
     "output_type": "stream",
     "text": [
      "Found 5296420 model parameters.\n",
      "Found 576808 actor parameters.\n",
      "Found 413601 value parameters.\n"
     ]
    }
   ],
   "source": [
    "# Create environment.\n",
    "env = make_env(config)\n",
    "\n",
    "# Create visualization environment\n",
    "suite, task = config.task.split('_', 1)\n",
    "vis_env = wrappers.MetaWorldVis(task, config.action_repeat, width=64)\n",
    "\n",
    "# Create and load agent.\n",
    "actspace = env.action_space\n",
    "datadir = config.logdir / 'episodes'\n",
    "agent = DreamerColloc(config, datadir, actspace)\n",
    "agent.load(config.logdir / 'variables.pkl')"
   ]
  },
  {
   "cell_type": "markdown",
   "metadata": {},
   "source": [
    "## Reward field"
   ]
  },
  {
   "cell_type": "code",
   "execution_count": 4,
   "metadata": {},
   "outputs": [
    {
     "data": {
      "image/png": "[encoded data removed]",
      "text/plain": [
       "<Figure size 432x288 with 1 Axes>"
      ]
     },
     "metadata": {
      "needs_background": "light"
     },
     "output_type": "display_data"
    }
   ],
   "source": [
    "state = np.array([0., 0., 0.02, 0., 0., 0.02, 0, 0, 0])\n",
    "state = np.array([0.1, 0.6, 0.25, 0.0, 0.25, 0.0, -0.0, 0.0, -0.0])\n",
    "state[:3] += np.array([0.0, 0.0, 0.0]) # xyz Sawyer\n",
    "state[3:6] += np.array([0.1, 0.7, 0.0]) # xyz object\n",
    "# Table is [-.35, .35], [.25, .95]\n",
    "frame = vis_env.render_states(state[None])\n",
    "# np.save(config.logdir_colloc / 'background.npy', frame[0])\n",
    "feat = agent.get_init_feat({'image': frame, 'reward': np.zeros(1)})[0]\n",
    "r = agent._reward(feat).mode()\n",
    "plt.imshow(frame[0])\n",
    "plt.show()"
   ]
  },
  {
   "cell_type": "code",
   "execution_count": 76,
   "metadata": {},
   "outputs": [],
   "source": [
    "def get_r(x, y):\n",
    "    state = np.array([0.0, 0.0, 0.0, 0.0, 0.0, 0.0, -0.0, 0.0, -0.0])\n",
    "    state[:3] += np.array([x, y, 0.0]) # xyz Sawyer\n",
    "#     state[:3] += np.array([0.1, 0.6, 0.0]) # Sawyer in neutral position\n",
    "    state[3:6] += np.array([x, y, 0.0]) # xyz object\n",
    "    # Table is [-.35, .35], [.25, .95]\n",
    "    frame = vis_env.render_states(state[None])\n",
    "    \n",
    "    feat = agent.get_init_feat({'image': frame, 'reward': np.zeros(1)})[0]\n",
    "    r = agent._reward(feat).mode()\n",
    "    return r\n",
    "\n",
    "n = 30\n",
    "reward_map = np.zeros((n,n))\n",
    "for i, x in enumerate(np.linspace(-.35, .35, n)):\n",
    "    for j, y in enumerate(np.linspace(.25, .95, n)):\n",
    "        r = get_r(x,y)\n",
    "        reward_map[i,j] = r"
   ]
  },
  {
   "cell_type": "code",
   "execution_count": 127,
   "metadata": {},
   "outputs": [
    {
     "data": {
      "image/png": "[encoded data removed]",
      "text/plain": [
       "<Figure size 432x288 with 2 Axes>"
      ]
     },
     "metadata": {
      "needs_background": "light"
     },
     "output_type": "display_data"
    }
   ],
   "source": [
    "x, y = np.meshgrid(np.linspace(.25, .95, n),\n",
    "                   np.linspace(-.35, .35, n))\n",
    "\n",
    "cmap = plt.get_cmap()\n",
    "# plt.contourf(y_map, x_map, reward_map, 100, cmap=cmap)\n",
    "fig = plt.figure()\n",
    "matplotlib.rcParams.update({'font.size': 16})\n",
    "plt.contourf(x, y, reward_map, cmap=cmap)\n",
    "# plt.imshow(reward_map)\n",
    "# plt.contourf(y_map, x_map, reward_map, cmap=cmap)\n",
    "# plt.contourf(reward_map)\n",
    "# plt.pcolormesh(reward_map)\n",
    "plt.colorbar()\n",
    "fig.show()\n",
    "plt.xlabel('object x-coordinate')\n",
    "plt.ylabel('object y-coordinate')\n",
    "plt.tight_layout()\n",
    "fig.savefig(\"reward_field.png\", dpi=300)"
   ]
  }
 ],
 "metadata": {
  "kernelspec": {
   "display_name": "Python 3",
   "language": "python",
   "name": "python3"
  },
  "language_info": {
   "codemirror_mode": {
    "name": "ipython",
    "version": 3
   },
   "file_extension": ".py",
   "mimetype": "text/x-python",
   "name": "python",
   "nbconvert_exporter": "python",
   "pygments_lexer": "ipython3",
   "version": "3.7.7"
  }
 },
 "nbformat": 4,
 "nbformat_minor": 4
}
