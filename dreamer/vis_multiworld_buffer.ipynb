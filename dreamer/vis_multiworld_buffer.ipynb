{
 "cells": [
  {
   "cell_type": "code",
   "execution_count": 1,
   "metadata": {
    "scrolled": true
   },
   "outputs": [],
   "source": [
    "from glob import glob\n",
    "import numpy as np\n",
    "import os\n",
    "import shutil\n",
    "from tqdm import tqdm\n",
    "import matplotlib.pyplot as plt"
   ]
  },
  {
   "cell_type": "code",
   "execution_count": 551,
   "metadata": {},
   "outputs": [],
   "source": [
    "source = 'logdir/muw_push/p2e_online_mtlatcog/episodes'\n",
    "source = 'logdir/muw_push/p2e_online_mtcemg/episodes'\n",
    "source = 'logdir/muw_push/p2e_online_mtgdg/episodes'\n",
    "li = sorted(glob(f'{source}/*.npz'))"
   ]
  },
  {
   "cell_type": "code",
   "execution_count": 552,
   "metadata": {},
   "outputs": [
    {
     "data": {
      "text/plain": [
       "9364"
      ]
     },
     "execution_count": 552,
     "metadata": {},
     "output_type": "execute_result"
    }
   ],
   "source": [
    "len(li)"
   ]
  },
  {
   "cell_type": "code",
   "execution_count": 553,
   "metadata": {},
   "outputs": [],
   "source": [
    "ep = li[1]\n",
    "data = np.load(li[1])"
   ]
  },
  {
   "cell_type": "code",
   "execution_count": 554,
   "metadata": {
    "scrolled": false
   },
   "outputs": [
    {
     "data": {
      "text/plain": [
       "['observation',\n",
       " 'state_observation',\n",
       " 'desired_goal',\n",
       " 'state_desired_goal',\n",
       " 'achieved_goal',\n",
       " 'state_achieved_goal',\n",
       " 'puck_pos',\n",
       " 'hand_pos',\n",
       " 'image_observation',\n",
       " 'image_desired_goal',\n",
       " 'image_achieved_goal',\n",
       " 'image',\n",
       " 'state',\n",
       " 'goal',\n",
       " 'image_goal',\n",
       " 'action',\n",
       " 'reward',\n",
       " 'discount']"
      ]
     },
     "execution_count": 554,
     "metadata": {},
     "output_type": "execute_result"
    }
   ],
   "source": [
    "list(data.keys())"
   ]
  },
  {
   "cell_type": "markdown",
   "metadata": {},
   "source": [
    "## Plot example trajectories"
   ]
  },
  {
   "cell_type": "code",
   "execution_count": 284,
   "metadata": {},
   "outputs": [
    {
     "data": {
      "text/plain": [
       "(2,)"
      ]
     },
     "execution_count": 284,
     "metadata": {},
     "output_type": "execute_result"
    }
   ],
   "source": [
    "x_min, x_max, y_min, y_max = -0.2, 0.2, 0.4, 0.8\n",
    "def plot_map():\n",
    "#     x_min, x_max, y_min, y_max = -1, 1, -1, 1\n",
    "    plt.plot([x_min, x_min, x_max, x_max, x_min,], [y_min, y_max, y_max, y_min, y_min], color='black', lw=5)\n",
    "\n",
    "def make_figure_pretty(ax, fig):\n",
    "    plt.xlim([x_min, x_max])\n",
    "    plt.ylim([y_min, y_max])\n",
    "    ax.set_xticklabels([])\n",
    "    ax.set_yticklabels([])\n",
    "    plt.tick_params(axis='both', which='both', bottom=False, top=False, left=False, right=False, labelbottom=False)\n",
    "    ax.grid(False)\n",
    "    plt.axis('off')\n",
    "    fig.tight_layout()  \n",
    "    \n",
    "def get_figure():\n",
    "#     fig = plt.figure(figsize=(18,18))\n",
    "    fig = plt.figure(figsize=(4,4))\n",
    "    ax = plt.gca()\n",
    "    plt.clf()  # Clear figure\n",
    "    cmap = plt.get_cmap()\n",
    "    return fig, ax, cmap\n",
    "\n",
    "def plot_traj(data, cmap=None, **kwargs):   \n",
    "    colors = np.linspace(1, 0, len(data))\n",
    "    cmap = plt.get_cmap(cmap)\n",
    "    for i in range(data.shape[0]):\n",
    "        plt.plot(data[i:i+2, 0], data[i:i+2, 1], color=cmap(colors[i]), **kwargs)"
   ]
  },
  {
   "cell_type": "code",
   "execution_count": 656,
   "metadata": {
    "scrolled": false
   },
   "outputs": [
    {
     "data": {
      "image/png": "[encoded data removed]",
      "text/plain": [
       "<Figure size 288x288 with 1 Axes>"
      ]
     },
     "metadata": {
      "needs_background": "light"
     },
     "output_type": "display_data"
    }
   ],
   "source": [
    "# i = -1\n",
    "i = i - 1\n",
    "data = np.load(li[i])\n",
    "\n",
    "\n",
    "puck = data['puck_pos']\n",
    "hand = data['hand_pos']\n",
    "puck_goal = data['goal'][0, 2:]\n",
    "hand_goal = data['goal'][0, :2]\n",
    "\n",
    "\n",
    "fig, ax, cmap = get_figure()\n",
    "plot_map()    \n",
    "# plt.plot(hand[:, 1], hand[:, 0], marker='o', color=cmap(colors[0]))\n",
    "# plt.plot(puck[:, 1], puck[:, 0], marker='o', color=cmap(colors[-1]))\n",
    "plot_traj(hand, lw=4, linestyle=':', cmap='Wistia')\n",
    "plot_traj(puck, ms=10, lw=5, cmap='winter')\n",
    "# Hand goal\n",
    "plt.plot(hand_goal[0], hand_goal[1], 'rx', mew=4, ms=20)\n",
    "plt.plot(hand[-1, 0], hand[-1, 1], 'bx', mew=2, ms=10)\n",
    "# Puck goal\n",
    "plt.plot(puck_goal[0], puck_goal[1], 'ro', mew=4, ms=20)\n",
    "plt.plot(puck[-1, 0], puck[-1, 1], 'bo', mew=2, ms=10)\n",
    "make_figure_pretty(ax, fig)\n",
    "fig.show()"
   ]
  },
  {
   "cell_type": "code",
   "execution_count": 653,
   "metadata": {},
   "outputs": [],
   "source": [
    "# TODO why does the reward not correspond to the env reward?\n",
    "# data['reward'] == (-(puck - puck_goal) ** 2 - (hand - hand_goal) ** 2).sum(1)\n",
    "# data['reward'] == -np.linalg.norm(data['state_achieved_goal'] - data['state_desired_goal'], axis=1)\n",
    "# -np.sqrt(((puck - puck_goal[None]) ** 2 + (hand - hand_goal[None]) ** 2).sum(1)) == -np.linalg.norm(data['state_achieved_goal'] - data['state_desired_goal'], axis=1)"
   ]
  },
  {
   "cell_type": "code",
   "execution_count": 595,
   "metadata": {},
   "outputs": [],
   "source": [
    "# -np.sqrt(((puck - puck_goal[None]) ** 2 + (hand - hand_goal[None]) ** 2).sum(1)), data['reward']\n",
    "# -np.linalg.norm(data['state_achieved_goal'] - data['state_desired_goal'], axis=1)\n",
    "# -np.linalg.norm(puck - puck_goal[None], axis=1) - np.linalg.norm(hand - hand_goal[None], axis=1)"
   ]
  },
  {
   "cell_type": "code",
   "execution_count": 597,
   "metadata": {},
   "outputs": [],
   "source": [
    "# data['state_achieved_goal'][0], hand[0], puck[0]\n",
    "# data['state_desired_goal'][0], hand_goal, puck_goal"
   ]
  },
  {
   "cell_type": "markdown",
   "metadata": {},
   "source": [
    "## Plot 2d histogram of improvements"
   ]
  },
  {
   "cell_type": "code",
   "execution_count": 527,
   "metadata": {},
   "outputs": [],
   "source": [
    "# i = 1000\n",
    "# i = i + 1\n",
    "# Start from 8500 - before goes plan2expore\n",
    "# episodes = [np.load(ep) for ep in li[8100:]]\n",
    "# pucks = np.array([ep['puck_pos'] for ep in episodes])\n",
    "# hands = np.array([ep['hand_pos'] for ep in episodes])\n",
    "# goals = np.array([ep['goal'] for ep in episodes])\n",
    "# puck_goals = goals[:, 0, 2:]\n",
    "# hand_goals = goals[:, 0, :2]\n"
   ]
  },
  {
   "cell_type": "code",
   "execution_count": 2,
   "metadata": {},
   "outputs": [],
   "source": [
    "from multiprocessing.pool import ThreadPool\n",
    "tp = ThreadPool(10)\n",
    "\n",
    "idx = 3700\n",
    "source = 'logdir/muw_push/p2ear1_online_mtlatcog/episodes'\n",
    "li = sorted(glob(f'{source}/*.npz'))\n",
    "episodes_latco = list(tp.imap(lambda x: dict(np.load(x)), li[idx:]))\n",
    "\n",
    "source = 'logdir/muw_push/p2ear1_online_mtcemg/episodes'\n",
    "li = sorted(glob(f'{source}/*.npz'))\n",
    "episodes_cem = list(tp.imap(lambda x: dict(np.load(x)), li[idx:]))\n",
    "\n",
    "source = 'logdir/muw_push/p2ear1_online_mtgdg/episodes'\n",
    "li = sorted(glob(f'{source}/*.npz'))\n",
    "episodes_gd = list(tp.imap(lambda x: dict(np.load(x)), li[idx:]))"
   ]
  },
  {
   "cell_type": "code",
   "execution_count": 93,
   "metadata": {},
   "outputs": [],
   "source": [
    "episodes = episodes_latco\n",
    "# episodes = episodes_cem\n",
    "# episodes = episodes_gd\n",
    "\n",
    "pucks = np.array([ep['puck_pos'] for ep in episodes])\n",
    "hands = np.array([ep['hand_pos'] for ep in episodes])\n",
    "goals = np.array([ep['goal'] for ep in episodes])\n",
    "puck_goals = goals[:, 0, 2:]\n",
    "hand_goals = goals[:, 0, :2]"
   ]
  },
  {
   "cell_type": "code",
   "execution_count": 94,
   "metadata": {},
   "outputs": [],
   "source": [
    "# Use to plot hands instead of pucks\n",
    "# puck_goals = hand_goals\n",
    "# pucks = hands"
   ]
  },
  {
   "cell_type": "code",
   "execution_count": 95,
   "metadata": {},
   "outputs": [],
   "source": [
    "# # Test where the new data starts\n",
    "# source = 'logdir/muw_push/p2ear1_online_mtlatcog/episodes'\n",
    "# li = sorted(glob(f'{source}/*.npz'))\n",
    "# print(len(li))\n",
    "# i = 3700 # here all methods already work well (3086 is the first collected episode)\n",
    "# print(np.load(li[i])['state'].shape)\n",
    "\n",
    "\n",
    "# source = 'logdir/muw_push/p2e_online_mtcemg/episodes'\n",
    "# li = sorted(glob(f'{source}/*.npz'))\n",
    "# print(np.load(li[i])['state'][-1])"
   ]
  },
  {
   "cell_type": "code",
   "execution_count": 96,
   "metadata": {},
   "outputs": [
    {
     "data": {
      "text/plain": [
       "1"
      ]
     },
     "execution_count": 96,
     "metadata": {},
     "output_type": "execute_result"
    },
    {
     "data": {
      "image/png": "[encoded data removed]",
      "text/plain": [
       "<Figure size 432x288 with 1 Axes>"
      ]
     },
     "metadata": {
      "needs_background": "light"
     },
     "output_type": "display_data"
    }
   ],
   "source": [
    "# puck_goals.shape\n",
    "bins = 10\n",
    "h, x_bins, y_bins, _ = plt.hist2d(puck_goals[:, 0], puck_goals[:, 1], bins=bins)\n",
    "# plt.hist2d(pucks[..., 0].flatten(), pucks[..., 1].flatten(), bins=20)\n",
    "plt.title('puck goal hist')\n",
    "\n",
    "# x_bins_latco = x_bins\n",
    "# y_bins_latco = y_bins\n",
    "\n",
    "# h, x_bins, y_bins, _ = plt.hist2d(pucks[:, 0, 0], pucks[:, 0, 1], bins=bins)\n",
    "# # plt.hist2d(pucks[..., 0].flatten(), pucks[..., 1].flatten(), bins=20)\n",
    "# plt.title('puck init hist')\n",
    "1"
   ]
  },
  {
   "cell_type": "code",
   "execution_count": 97,
   "metadata": {},
   "outputs": [
    {
     "data": {
      "text/plain": [
       "1"
      ]
     },
     "execution_count": 97,
     "metadata": {},
     "output_type": "execute_result"
    },
    {
     "data": {
      "image/png": "[encoded data removed]",
      "text/plain": [
       "<Figure size 432x288 with 1 Axes>"
      ]
     },
     "metadata": {
      "needs_background": "light"
     },
     "output_type": "display_data"
    }
   ],
   "source": [
    "puck_dists = np.linalg.norm(pucks - puck_goals[:, None], axis=2)\n",
    "plt.hist(puck_dists.flatten())\n",
    "plt.title('puck dists')\n",
    "1"
   ]
  },
  {
   "cell_type": "code",
   "execution_count": 98,
   "metadata": {},
   "outputs": [
    {
     "data": {
      "text/plain": [
       "1"
      ]
     },
     "execution_count": 98,
     "metadata": {},
     "output_type": "execute_result"
    },
    {
     "data": {
      "image/png": "[encoded data removed]",
      "text/plain": [
       "<Figure size 432x288 with 1 Axes>"
      ]
     },
     "metadata": {
      "needs_background": "light"
     },
     "output_type": "display_data"
    }
   ],
   "source": [
    "puck_first_dists = np.linalg.norm(pucks[:, 0] - puck_goals, axis=1)\n",
    "puck_last_dists = np.linalg.norm(pucks[:, -1] - puck_goals, axis=1)\n",
    "puck_improvements = puck_first_dists - puck_last_dists\n",
    "plt.hist(puck_improvements.flatten())\n",
    "plt.title('puck improvements')\n",
    "\n",
    "1"
   ]
  },
  {
   "cell_type": "code",
   "execution_count": 99,
   "metadata": {
    "scrolled": false
   },
   "outputs": [],
   "source": [
    "# TODO plot success and improvement in success and compare it\n",
    "puck_first_dists = np.linalg.norm(pucks[:, 0] - puck_goals, axis=1)\n",
    "puck_last_dists = np.linalg.norm(pucks[:, -1] - puck_goals, axis=1)\n",
    "puck_improvements = puck_first_dists - puck_last_dists\n",
    "# plt.hist(puck_improvements.flatten())\n",
    "# plt.title('puck success')\n",
    "\n",
    "eps = 0.04 # decent threshold\n",
    "# for eps in np.linspace(0.1, 0.005):\n",
    "#     puck_first_success = (puck_first_dists < eps).mean()\n",
    "#     puck_last_success = (puck_last_dists < eps).mean()\n",
    "#     \n",
    "#     print(f'{eps:.3f}', f'{puck_last_success - puck_first_success:.3f}')\n",
    "\n",
    "puck_first_success = (puck_first_dists < eps).astype(np.float)\n",
    "puck_last_success = (puck_last_dists < eps).astype(np.float)\n",
    "puck_improvement_success = puck_last_success - puck_first_success\n",
    "# puck_first_success, puck_last_success, puck_last_success - puck_first_success"
   ]
  },
  {
   "cell_type": "code",
   "execution_count": 100,
   "metadata": {},
   "outputs": [
    {
     "name": "stderr",
     "output_type": "stream",
     "text": [
      "/nfs/kun1/users/oleg/anaconda3_nfs/envs/tf2/lib/python3.7/site-packages/ipykernel_launcher.py:15: RuntimeWarning: invalid value encountered in true_divide\n",
      "  from ipykernel import kernelapp as app\n"
     ]
    },
    {
     "data": {
      "text/plain": [
       "1"
      ]
     },
     "execution_count": 100,
     "metadata": {},
     "output_type": "execute_result"
    },
    {
     "data": {
      "image/png": "[encoded data removed]",
      "text/plain": [
       "<Figure size 432x288 with 2 Axes>"
      ]
     },
     "metadata": {
      "needs_background": "light"
     },
     "output_type": "display_data"
    }
   ],
   "source": [
    "hist_data = puck_last_dists\n",
    "hist_data = puck_first_dists\n",
    "# hist_data = puck_dists.mean(1)\n",
    "hist_data = puck_improvements\n",
    "hist_data = puck_improvement_success\n",
    "# hist_data = puck_goals[:, 0]\n",
    "\n",
    "x_idx = np.digitize(puck_goals[:, 0], x_bins_latco)\n",
    "y_idx = np.digitize(puck_goals[:, 1], y_bins_latco)\n",
    "# plt.hist2d(puck_goals[:, 0], puck_goals[:, 1], bins=50, weights=puck_dists.mean(1))\n",
    "1\n",
    "h = np.zeros((bins+1, bins+1, hist_data.shape[0]))\n",
    "# h[:] = np.inf\n",
    "h[x_idx - 1, y_idx - 1, range(hist_data.shape[0])] = hist_data\n",
    "h = h.sum(-1) / np.count_nonzero(h, -1)\n",
    "h[h==0] = np.nan\n",
    "# h = h > 0\n",
    "plt.set_cmap('RdBu')\n",
    "plt.imshow(h.T)\n",
    "plt.colorbar()\n",
    "plt.title('improvement w.r.t xy of goal')\n",
    "1\n",
    "# h[]\n",
    "# puck_goals.shape\n",
    "# puck_last_dists.shape\n"
   ]
  },
  {
   "cell_type": "code",
   "execution_count": 91,
   "metadata": {},
   "outputs": [],
   "source": [
    "# puck_improvements.mean()\n",
    "# puck_improvement_success\n",
    "# puck_goals.shape"
   ]
  },
  {
   "cell_type": "code",
   "execution_count": 102,
   "metadata": {},
   "outputs": [
    {
     "data": {
      "image/png": "[encoded data removed]",
      "text/plain": [
       "<Figure size 432x288 with 2 Axes>"
      ]
     },
     "metadata": {
      "needs_background": "light"
     },
     "output_type": "display_data"
    },
    {
     "data": {
      "image/png": "[encoded data removed]",
      "text/plain": [
       "<Figure size 432x288 with 2 Axes>"
      ]
     },
     "metadata": {
      "needs_background": "light"
     },
     "output_type": "display_data"
    },
    {
     "data": {
      "image/png": "[encoded data removed]",
      "text/plain": [
       "<Figure size 432x288 with 2 Axes>"
      ]
     },
     "metadata": {
      "needs_background": "light"
     },
     "output_type": "display_data"
    },
    {
     "data": {
      "image/png": "[encoded data removed]",
      "text/plain": [
       "<Figure size 432x288 with 2 Axes>"
      ]
     },
     "metadata": {
      "needs_background": "light"
     },
     "output_type": "display_data"
    },
    {
     "data": {
      "image/png": "[encoded data removed]",
      "text/plain": [
       "<Figure size 432x288 with 2 Axes>"
      ]
     },
     "metadata": {
      "needs_background": "light"
     },
     "output_type": "display_data"
    }
   ],
   "source": [
    "# h_cem = h\n",
    "# h_gd = h\n",
    "h_latco = h\n",
    "# h_gd_orig = h\n",
    "\n",
    "# plt.imshow(h - h_gd)\n",
    "# plt.imshow(h)\n",
    "plt.imshow(h_latco.T)\n",
    "plt.title('latco improvement')\n",
    "plt.colorbar()\n",
    "plt.show()\n",
    "plt.imshow(h_cem.T)\n",
    "plt.title('cem improvement')\n",
    "plt.colorbar()\n",
    "plt.show()\n",
    "# plt.imshow(h_gd_orig)\n",
    "plt.imshow(h_gd.T)\n",
    "plt.title('gd improvement')\n",
    "plt.colorbar()\n",
    "plt.show()\n",
    "plt.imshow((h_latco - h_gd).T)\n",
    "plt.title('latco over gd improvement')\n",
    "plt.colorbar()\n",
    "plt.show()\n",
    "plt.imshow((h_latco - h_cem).T)\n",
    "plt.title('latco over cem improvement')\n",
    "plt.colorbar()\n",
    "plt.show()\n",
    "# plt.imshow((h_latco - h_cem).T)\n",
    "# plt.imshow((h_gd - h_cem).T)"
   ]
  },
  {
   "cell_type": "code",
   "execution_count": 46,
   "metadata": {},
   "outputs": [
    {
     "name": "stdout",
     "output_type": "stream",
     "text": [
      "0.0008365135739509329 0.0007392671292641472 0.0024207403880871984\n",
      "-0.0019667959425771074 -0.00022957247829259427\n"
     ]
    }
   ],
   "source": [
    "print(np.nanmean(h_latco), np.nanmean(h_cem), np.nanmean(h_gd))\n",
    "print(np.nanmean(h_latco - h_gd), np.nanmean(h_latco - h_cem))"
   ]
  },
  {
   "cell_type": "markdown",
   "metadata": {},
   "source": [
    "## Reward field"
   ]
  },
  {
   "cell_type": "code",
   "execution_count": 3,
   "metadata": {},
   "outputs": [
    {
     "name": "stderr",
     "output_type": "stream",
     "text": [
      "/nfs/kun1/users/oleg/anaconda3_nfs/envs/tf2/lib/python3.7/site-packages/gym/logger.py:30: UserWarning: \u001b[33mWARN: Box bound precision lowered by casting to float32\u001b[0m\n",
      "  warnings.warn(colorize('%s: %s'%('WARN', msg % args), 'yellow'))\n"
     ]
    },
    {
     "name": "stdout",
     "output_type": "stream",
     "text": [
      "Found 5296420 model parameters.\n",
      "Found 576808 actor parameters.\n",
      "Found 413601 value parameters.\n"
     ]
    }
   ],
   "source": [
    "# Create environment.\n",
    "env = make_env(config)\n",
    "\n",
    "# Create visualization environment\n",
    "suite, task = config.task.split('_', 1)\n",
    "vis_env = wrappers.MetaWorldVis(task, config.action_repeat, width=64)\n",
    "\n",
    "# Create and load agent.\n",
    "actspace = env.action_space\n",
    "datadir = config.logdir / 'episodes'\n",
    "agent = DreamerColloc(config, datadir, actspace)\n",
    "agent.load(config.logdir / 'variables.pkl')"
   ]
  },
  {
   "cell_type": "code",
   "execution_count": 4,
   "metadata": {},
   "outputs": [
    {
     "data": {
      "image/png": "[encoded data removed]",
      "text/plain": [
       "<Figure size 432x288 with 1 Axes>"
      ]
     },
     "metadata": {
      "needs_background": "light"
     },
     "output_type": "display_data"
    }
   ],
   "source": [
    "state = np.array([0., 0., 0.02, 0., 0., 0.02, 0, 0, 0])\n",
    "state = np.array([0.1, 0.6, 0.25, 0.0, 0.25, 0.0, -0.0, 0.0, -0.0])\n",
    "state[:3] += np.array([0.0, 0.0, 0.0]) # xyz Sawyer\n",
    "state[3:6] += np.array([0.1, 0.7, 0.0]) # xyz object\n",
    "# Table is [-.35, .35], [.25, .95]\n",
    "frame = vis_env.render_states(state[None])\n",
    "# np.save(config.logdir_colloc / 'background.npy', frame[0])\n",
    "feat = agent.get_init_feat({'image': frame, 'reward': np.zeros(1)})[0]\n",
    "r = agent._reward(feat).mode()\n",
    "plt.imshow(frame[0])\n",
    "plt.show()"
   ]
  },
  {
   "cell_type": "code",
   "execution_count": 76,
   "metadata": {},
   "outputs": [],
   "source": [
    "def get_r(x, y):\n",
    "    state = np.array([0.0, 0.0, 0.0, 0.0, 0.0, 0.0, -0.0, 0.0, -0.0])\n",
    "    state[:3] += np.array([x, y, 0.0]) # xyz Sawyer\n",
    "#     state[:3] += np.array([0.1, 0.6, 0.0]) # Sawyer in neutral position\n",
    "    state[3:6] += np.array([x, y, 0.0]) # xyz object\n",
    "    # Table is [-.35, .35], [.25, .95]\n",
    "    frame = vis_env.render_states(state[None])\n",
    "    \n",
    "    feat = agent.get_init_feat({'image': frame, 'reward': np.zeros(1)})[0]\n",
    "    r = agent._reward(feat).mode()\n",
    "    return r\n",
    "\n",
    "n = 30\n",
    "reward_map = np.zeros((n,n))\n",
    "for i, x in enumerate(np.linspace(-.35, .35, n)):\n",
    "    for j, y in enumerate(np.linspace(.25, .95, n)):\n",
    "        r = get_r(x,y)\n",
    "        reward_map[i,j] = r"
   ]
  },
  {
   "cell_type": "code",
   "execution_count": 127,
   "metadata": {},
   "outputs": [
    {
     "data": {
      "image/png": "[encoded data removed]",
      "text/plain": [
       "<Figure size 432x288 with 2 Axes>"
      ]
     },
     "metadata": {
      "needs_background": "light"
     },
     "output_type": "display_data"
    }
   ],
   "source": [
    "x, y = np.meshgrid(np.linspace(.25, .95, n),\n",
    "                   np.linspace(-.35, .35, n))\n",
    "\n",
    "cmap = plt.get_cmap()\n",
    "# plt.contourf(y_map, x_map, reward_map, 100, cmap=cmap)\n",
    "fig = plt.figure()\n",
    "matplotlib.rcParams.update({'font.size': 16})\n",
    "plt.contourf(x, y, reward_map, cmap=cmap)\n",
    "# plt.imshow(reward_map)\n",
    "# plt.contourf(y_map, x_map, reward_map, cmap=cmap)\n",
    "# plt.contourf(reward_map)\n",
    "# plt.pcolormesh(reward_map)\n",
    "plt.colorbar()\n",
    "fig.show()\n",
    "plt.xlabel('object x-coordinate')\n",
    "plt.ylabel('object y-coordinate')\n",
    "plt.tight_layout()\n",
    "fig.savefig(\"reward_field.png\", dpi=300)"
   ]
  }
 ],
 "metadata": {
  "kernelspec": {
   "display_name": "Python 3",
   "language": "python",
   "name": "python3"
  },
  "language_info": {
   "codemirror_mode": {
    "name": "ipython",
    "version": 3
   },
   "file_extension": ".py",
   "mimetype": "text/x-python",
   "name": "python",
   "nbconvert_exporter": "python",
   "pygments_lexer": "ipython3",
   "version": "3.7.7"
  }
 },
 "nbformat": 4,
 "nbformat_minor": 4
}
