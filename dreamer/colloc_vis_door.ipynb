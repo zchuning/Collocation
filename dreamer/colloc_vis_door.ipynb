{
 "cells": [
  {
   "cell_type": "code",
   "execution_count": 1,
   "metadata": {},
   "outputs": [],
   "source": [
    "import argparse\n",
    "import collections\n",
    "import functools\n",
    "import json\n",
    "import imageio\n",
    "import os\n",
    "import pathlib\n",
    "import sys\n",
    "import time\n",
    "from PIL import Image\n",
    "import skvideo.io\n",
    "import matplotlib\n",
    "\n",
    "os.environ['TF_CPP_MIN_LOG_LEVEL'] = '3'\n",
    "os.environ['MUJOCO_GL'] = 'egl'\n",
    "\n",
    "import numpy as np\n",
    "import matplotlib.pyplot as plt\n",
    "import tensorflow as tf\n",
    "from tensorflow.keras.mixed_precision import experimental as prec\n",
    "from blox.utils import AverageMeter, timing\n",
    "from blox.basic_types import map_dict\n",
    "import time\n",
    "import matplotlib.pyplot as plt\n",
    "\n",
    "tf.get_logger().setLevel('ERROR')\n",
    "\n",
    "from tensorflow_probability import distributions as tfd\n",
    "\n",
    "import models\n",
    "import tools\n",
    "import wrappers\n",
    "from dreamer import Dreamer, preprocess, make_bare_env\n",
    "import dreamer\n",
    "import gn_solver\n",
    "import gn_solver_goal\n",
    "from utils import logging\n",
    "from dreamer_colloc import DreamerColloc, make_env\n",
    "import dreamer_colloc\n",
    "\n",
    "def define_config():\n",
    "  config = dreamer_colloc.define_config()\n",
    "  return config"
   ]
  },
  {
   "cell_type": "code",
   "execution_count": 112,
   "metadata": {},
   "outputs": [
    {
     "name": "stdout",
     "output_type": "stream",
     "text": [
      "Logdir logdir/desk/random_sr/offline\n"
     ]
    }
   ],
   "source": [
    "# Parse arguments\n",
    "try:\n",
    "  import colored_traceback\n",
    "  colored_traceback.add_hook()\n",
    "except ImportError:\n",
    "  pass\n",
    "parser = argparse.ArgumentParser()\n",
    "for key, value in define_config().items():\n",
    "  parser.add_argument(f'--{key}', type=tools.args_type(value), default=value)\n",
    "# args = \\\n",
    "# '--logdir ./logdir/mw_pickplace/dreamer_vis_online_gd200_fixed \\\n",
    "# --task mw_sawyer_SawyerPickPlaceEnvV2 \\\n",
    "# --action_repeat 1 \\\n",
    "# --time_limit 120 \\\n",
    "# --planning_task colloc_second_order \\\n",
    "# --planning_horizon 40 \\\n",
    "# --mpc_steps 40 \\\n",
    "# --gd_steps 200 \\\n",
    "# --logdir_colloc ./logdir_colloc/mw_pickplace/dreamer_vis_online_gd200_fixed \\\n",
    "# --rew_res_wt 1 \\\n",
    "# --dyn_threshold 1e-5 \\\n",
    "# --act_threshold 1e-5 \\\n",
    "# --coeff_normalization 1 \\\n",
    "# --eval_tasks 1 \\\n",
    "# --collect_sparse_reward True \\\n",
    "# --state_regressor True \\\n",
    "# --use_sparse_reward True'\n",
    "\n",
    "args = \\\n",
    "'--logdir ./logdir/desk/random_sr/offline \\\n",
    "--task desk_door \\\n",
    "--action_repeat 1 \\\n",
    "--time_limit 10 \\\n",
    "--planning_task colloc_second_order \\\n",
    "--planning_horizon 10 \\\n",
    "--mpc_steps 10 \\\n",
    "--gd_steps 200 \\\n",
    "--logdir_colloc ./logdir/desk/vis \\\n",
    "--rew_res_wt 10 \\\n",
    "--dyn_threshold 1e-2 \\\n",
    "--act_threshold 1e-4 \\\n",
    "--coeff_normalization 1 \\\n",
    "--nu_lr 1 \\\n",
    "--state_regressor True \\\n",
    "--state_size 79 \\\n",
    "--eval_tasks 1'\n",
    "config = parser.parse_args(args.split(' '))\n",
    "\n",
    "if config.gpu_growth:\n",
    "  for gpu in tf.config.experimental.list_physical_devices('GPU'):\n",
    "    tf.config.experimental.set_memory_growth(gpu, True)\n",
    "assert config.precision in (16, 32), config.precision\n",
    "if config.precision == 16:\n",
    "  prec.set_policy(prec.Policy('mixed_float16'))\n",
    "config.steps = int(config.steps)\n",
    "config.logdir.mkdir(parents=True, exist_ok=True)\n",
    "print('Logdir', config.logdir)\n",
    "config.logdir_colloc.mkdir(parents=True, exist_ok=True)"
   ]
  },
  {
   "cell_type": "code",
   "execution_count": 113,
   "metadata": {},
   "outputs": [
    {
     "name": "stdout",
     "output_type": "stream",
     "text": [
      "setting param viewer_image_height to value 64\n",
      "setting param viewer_image_width to value 64\n",
      "setting param textured to value True\n",
      "setting param viewer_image_height to value 64\n",
      "setting param viewer_image_width to value 64\n",
      "setting param textured to value True\n",
      "Found 5580699 model parameters.\n",
      "Found 576006 actor parameters.\n",
      "Found 413601 value parameters.\n"
     ]
    }
   ],
   "source": [
    "# Create environment.\n",
    "env = make_env(config)\n",
    "\n",
    "# Create visualization environment\n",
    "# suite, task = config.task.split('_', 1)\n",
    "vis_env = make_env(config)._env._env\n",
    "\n",
    "# Create and load agent.\n",
    "actspace = env.action_space\n",
    "datadir = config.logdir / 'episodes'\n",
    "agent = DreamerColloc(config, datadir, actspace)\n",
    "agent.load(config.logdir / 'variables.pkl')"
   ]
  },
  {
   "cell_type": "code",
   "execution_count": null,
   "metadata": {},
   "outputs": [],
   "source": []
  },
  {
   "cell_type": "code",
   "execution_count": 114,
   "metadata": {},
   "outputs": [
    {
     "name": "stdout",
     "output_type": "stream",
     "text": [
      "Planning step 1 of 10\n",
      "Final average dynamics loss: 0.00896578561514616\n",
      "Final average action violation: 0.00013943910016678274\n",
      "Final total reward: -3.351921796798706\n",
      "Final average initial state violation: 1.3970596901557997e-09\n",
      "Total reward: -0.9499276440019541\n"
     ]
    }
   ],
   "source": [
    "# Define task-related variables\n",
    "assert config.planning_task == 'colloc_second_order'\n",
    "actspace = env.action_space\n",
    "obs = env.reset()\n",
    "obs['image'] = [obs['image']]\n",
    "\n",
    "# Obtain goal observation for goal-based collocation\n",
    "is_goal_based = 'goal' in config.planning_task or config.goal_based\n",
    "if is_goal_based:\n",
    "  goal_obs = env.render_goal()\n",
    "  imageio.imwrite('goal_img.jpg', goal_obs['image'])\n",
    "  goal_obs['image'] = [goal_obs['image']]\n",
    "else:\n",
    "  goal_obs = None\n",
    "\n",
    "# Planning steps\n",
    "num_iter = config.time_limit // config.action_repeat\n",
    "img_preds, act_preds, frames, plans = [], [], [], []\n",
    "total_reward = 0\n",
    "if config.collect_sparse_reward:\n",
    "  total_sparse_reward = 0\n",
    "\n",
    "for i in range(0, num_iter, config.mpc_steps):\n",
    "  print(\"Planning step {0} of {1}\".format(i + 1, num_iter))\n",
    "  act_pred, img_pred, feat_pred, info = agent.collocation_so(obs, goal_obs, True, 0)\n",
    "  # Simulate in env\n",
    "  act_pred_np = act_pred.numpy()\n",
    "  for j in range(len(act_pred_np)):\n",
    "    obs, reward, done, env_info = env.step(act_pred_np[j])\n",
    "    total_reward += reward\n",
    "    if config.collect_sparse_reward:\n",
    "        total_sparse_reward += env_info['success'] # float(info['goalDist'] < 0.15)\n",
    "    frames.append(obs['image'])\n",
    "  # Update observation\n",
    "  obs['image'] = [obs['image']]\n",
    "  # Logging\n",
    "  act_preds.append(act_pred_np)\n",
    "  img_preds.append(img_pred.numpy())\n",
    "  plans.append(info['plans'])\n",
    "  agent.logger.log_video(f\"plan/{i}\", img_pred.numpy())\n",
    "  agent.logger.log_video(f\"execution/{i}\", frames[-len(act_pred_np):])\n",
    "\n",
    "print(f\"Total reward: {total_reward}\")\n",
    "# Log full videos\n",
    "img_preds = np.vstack(img_preds)\n",
    "agent.logger.log_video(\"plan/full\", img_preds)\n",
    "agent.logger.log_video(\"execution/full\", frames)"
   ]
  },
  {
   "cell_type": "markdown",
   "metadata": {},
   "source": [
    "## Save Data"
   ]
  },
  {
   "cell_type": "code",
   "execution_count": 134,
   "metadata": {},
   "outputs": [
    {
     "ename": "AttributeError",
     "evalue": "'numpy.ndarray' object has no attribute 'numpy'",
     "traceback": [
      "\u001b[0;31m---------------------------------------------------------------------------\u001b[0m",
      "\u001b[0;31mAttributeError\u001b[0m                            Traceback (most recent call last)",
      "\u001b[0;32m<ipython-input-134-b1f128c619ae>\u001b[0m in \u001b[0;36m<module>\u001b[0;34m\u001b[0m\n\u001b[1;32m     11\u001b[0m   \u001b[0mnp\u001b[0m\u001b[0;34m.\u001b[0m\u001b[0msave\u001b[0m\u001b[0;34m(\u001b[0m\u001b[0mconfig\u001b[0m\u001b[0;34m.\u001b[0m\u001b[0mlogdir_colloc\u001b[0m \u001b[0;34m/\u001b[0m \u001b[0;34m'plans.npy'\u001b[0m\u001b[0;34m,\u001b[0m \u001b[0mplans_np\u001b[0m\u001b[0;34m)\u001b[0m\u001b[0;34m\u001b[0m\u001b[0;34m\u001b[0m\u001b[0m\n\u001b[1;32m     12\u001b[0m \u001b[0;34m\u001b[0m\u001b[0m\n\u001b[0;32m---> 13\u001b[0;31m \u001b[0msave_plans\u001b[0m\u001b[0;34m(\u001b[0m\u001b[0mplans\u001b[0m\u001b[0;34m)\u001b[0m\u001b[0;34m\u001b[0m\u001b[0;34m\u001b[0m\u001b[0m\n\u001b[0m",
      "\u001b[0;32m<ipython-input-134-b1f128c619ae>\u001b[0m in \u001b[0;36msave_plans\u001b[0;34m(plans)\u001b[0m\n\u001b[1;32m      5\u001b[0m     \u001b[0msingle_plan\u001b[0m \u001b[0;34m=\u001b[0m \u001b[0;34m[\u001b[0m\u001b[0;34m]\u001b[0m\u001b[0;34m\u001b[0m\u001b[0;34m\u001b[0m\u001b[0m\n\u001b[1;32m      6\u001b[0m     \u001b[0;32mfor\u001b[0m \u001b[0mj\u001b[0m \u001b[0;32min\u001b[0m \u001b[0mrange\u001b[0m\u001b[0;34m(\u001b[0m\u001b[0mlen\u001b[0m\u001b[0;34m(\u001b[0m\u001b[0mplans\u001b[0m\u001b[0;34m[\u001b[0m\u001b[0;36m0\u001b[0m\u001b[0;34m]\u001b[0m\u001b[0;34m)\u001b[0m\u001b[0;34m)\u001b[0m\u001b[0;34m:\u001b[0m\u001b[0;34m\u001b[0m\u001b[0;34m\u001b[0m\u001b[0m\n\u001b[0;32m----> 7\u001b[0;31m       \u001b[0msingle_plan\u001b[0m\u001b[0;34m.\u001b[0m\u001b[0mappend\u001b[0m\u001b[0;34m(\u001b[0m\u001b[0mplans\u001b[0m\u001b[0;34m[\u001b[0m\u001b[0mi\u001b[0m\u001b[0;34m]\u001b[0m\u001b[0;34m[\u001b[0m\u001b[0mj\u001b[0m\u001b[0;34m]\u001b[0m\u001b[0;34m.\u001b[0m\u001b[0mnumpy\u001b[0m\u001b[0;34m(\u001b[0m\u001b[0;34m)\u001b[0m\u001b[0;34m)\u001b[0m\u001b[0;34m\u001b[0m\u001b[0;34m\u001b[0m\u001b[0m\n\u001b[0m\u001b[1;32m      8\u001b[0m     \u001b[0mplans_np\u001b[0m\u001b[0;34m.\u001b[0m\u001b[0mappend\u001b[0m\u001b[0;34m(\u001b[0m\u001b[0msingle_plan\u001b[0m\u001b[0;34m)\u001b[0m\u001b[0;34m\u001b[0m\u001b[0;34m\u001b[0m\u001b[0m\n\u001b[1;32m      9\u001b[0m   \u001b[0mplans_np\u001b[0m \u001b[0;34m=\u001b[0m \u001b[0mnp\u001b[0m\u001b[0;34m.\u001b[0m\u001b[0marray\u001b[0m\u001b[0;34m(\u001b[0m\u001b[0mplans_np\u001b[0m\u001b[0;34m)\u001b[0m\u001b[0;34m\u001b[0m\u001b[0;34m\u001b[0m\u001b[0m\n",
      "\u001b[0;31mAttributeError\u001b[0m: 'numpy.ndarray' object has no attribute 'numpy'"
     ],
     "output_type": "error"
    }
   ],
   "source": [
    "def save_plans(plans):\n",
    "  # Save plans\n",
    "  plans_np = []\n",
    "  for i in range(len(plans)):\n",
    "    single_plan = []\n",
    "    for j in range(len(plans[0])):\n",
    "      single_plan.append(plans[i][j].numpy())\n",
    "    plans_np.append(single_plan)\n",
    "  plans_np = np.array(plans_np)\n",
    "  print(plans_np.shape)\n",
    "  np.save(config.logdir_colloc / 'plans.npy', plans_np)\n",
    "\n",
    "save_plans(plans)"
   ]
  },
  {
   "cell_type": "code",
   "execution_count": 118,
   "metadata": {},
   "outputs": [],
   "source": [
    "def render_state(env, state):\n",
    "    assert (len(state.shape) == 1)\n",
    "    # Save init configs\n",
    "#     hand_init_pos = env._env.hand_init_pos\n",
    "#     obj_init_pos = env._env.init_config['obj_init_pos']\n",
    "#     # Render state\n",
    "#     hand_pos, obj_pos, hand_to_goal = np.split(state, 3)\n",
    "#     env._env.hand_init_pos = hand_pos\n",
    "#     env._env.init_config['obj_init_pos'] = obj_pos\n",
    "#     env._env.reset_model()\n",
    "#     obs = env._get_obs(state)\n",
    "    # Revert environment\n",
    "#     env._env.hand_init_pos = hand_init_pos\n",
    "#     env._env.init_config['obj_init_pos'] = obj_init_pos\n",
    "    state = env._env.reset(state)\n",
    "    obs = env._get_obs(state)\n",
    "    return obs['image']\n",
    "  \n",
    "def render_states(env, states):\n",
    "    assert (len(states.shape) == 2)\n",
    "    imgs = []\n",
    "    for s in states:\n",
    "      img = render_state(env, s)\n",
    "      imgs.append(img)\n",
    "    return np.array(imgs)"
   ]
  },
  {
   "cell_type": "code",
   "execution_count": 320,
   "metadata": {},
   "outputs": [
    {
     "data": {
      "image/png": "[encoded data removed]",
      "text/plain": [
       "<Figure size 432x288 with 1 Axes>"
      ]
     },
     "metadata": {
      "needs_background": "light"
     },
     "output_type": "display_data"
    }
   ],
   "source": [
    "state = np.zeros([79])\n",
    "# state = np.array([0.1263125, 0.73174214, 0.05957499, 0.12420364, 0.7611793, 0.03011783, -0.0260275, 0.07807945, -0.03987794])\n",
    "state[:3] += np.array([0., 0.0, -0.0])\n",
    "frame = render_states(vis_env, state[None])\n",
    "np.save(config.logdir_colloc / 'background.npy', frame[0])\n",
    "plt.imshow(frame[0])\n",
    "plt.show()"
   ]
  },
  {
   "cell_type": "markdown",
   "metadata": {},
   "source": [
    "## Composite Plans"
   ]
  },
  {
   "cell_type": "code",
   "execution_count": 342,
   "metadata": {},
   "outputs": [],
   "source": [
    "def visualize_plan_background(plans, background, config, mode=None, num_shadows=4):\n",
    "  import cv2\n",
    "  video = []\n",
    "  fg_masks = []\n",
    "  opt_steps = config.gd_steps\n",
    "  opt_int = 2\n",
    "  traj_int = config.planning_horizon // num_shadows\n",
    "  for plan in plans[:opt_steps:opt_int]:\n",
    "    plan = plan[0, :-1:traj_int, :-3] # Take 5 latent states without actions\n",
    "    states = agent._state(plan).mode().numpy()\n",
    "    # Avoid contact \n",
    "    # states[:, :3] += np.array([0., 0.0, 0.03])\n",
    "    if mode == 'obj':\n",
    "      states[:, :3] = np.array([0., 0., 0.2])\n",
    "    elif mode == 'hand':\n",
    "      states[:, 3:6] = np.array([0., 0., 0.02])\n",
    "    frames = render_states(vis_env, states)\n",
    "    dst = bg.copy()\n",
    "    fg_mask_combined = np.zeros_like(frames[0])\n",
    "    for i in range(frames.shape[0] - 1, -1, -1):\n",
    "      frame = frames[i]\n",
    "      fg_mask = frame != background\n",
    "      frame[1 - fg_mask] = 0.0\n",
    "      dst[fg_mask] = frame[fg_mask]\n",
    "      fg_mask_combined = np.logical_or(fg_mask_combined, fg_mask)\n",
    "    video.append(dst)\n",
    "    fg_masks.append(np.array(fg_mask_combined))\n",
    "  return np.stack(video, 0), np.stack(fg_masks, 0)"
   ]
  },
  {
   "cell_type": "code",
   "execution_count": 344,
   "metadata": {},
   "outputs": [],
   "source": [
    "import cv2\n",
    "plans = np.load(config.logdir_colloc / \"plans.npy\")\n",
    "bg = np.load(config.logdir_colloc / \"background.npy\")\n",
    "for i in range(len(plans)):\n",
    "  video, mask = visualize_plan_background(plans[i,], bg, config, num_shadows=4)\n",
    "#   fname_hand = f'result_sparse_hand_bg' + str(i)\n",
    "#   skvideo.io.vwrite(config.logdir_colloc / f'{fname_hand}.mp4', video_hand, inputdict={'-r': '10'})\n",
    "#   video_obj, mask_obj = visualize_plan_background(plans[i], bg, config, 'obj', 8)\n",
    "#   fname_obj = f'result_sparse_obj_bg' + str(i)\n",
    "#   skvideo.io.vwrite(config.logdir_colloc / f'{fname_obj}.mp4', video_obj, inputdict={'-r': '10'})\n",
    "#   video = np.zeros_like(video_hand)\n",
    "#   for j in range(len(video_hand)):\n",
    "#     frame_obj = bg.copy()\n",
    "#     frame_hand = bg.copy()\n",
    "#     frame_obj[mask_obj[j]] = video_obj[j][mask_obj[j]]\n",
    "#     frame_hand[mask_hand[j]] = video_hand[j][mask_hand[j]]\n",
    "#     frame = cv2.addWeighted(frame_obj, 0.5, frame_hand, 0.5, 0.0)\n",
    "#     video[j] = frame\n",
    "  fname = f'result_sparse_combined_6fps_short' + str(i)\n",
    "  skvideo.io.vwrite(config.logdir_colloc / f'{fname}.gif', video[:len(video) // 2], inputdict={'-r': '6'})\n",
    "  break"
   ]
  },
  {
   "cell_type": "code",
   "execution_count": 347,
   "metadata": {},
   "outputs": [],
   "source": [
    "\n",
    "fname = f'result_sparse_combined_6fps_short' + str(i)\n",
    "skvideo.io.vwrite(config.logdir_colloc / f'{fname}.gif', video[:len(video) // 2], inputdict={'-r': '3'})\n",
    "skvideo.io.vwrite(config.logdir_colloc / f'{fname}.mp4', video[:len(video) // 2], inputdict={'-r': '3'})"
   ]
  },
  {
   "cell_type": "code",
   "execution_count": 340,
   "metadata": {},
   "outputs": [
    {
     "name": "stdout",
     "output_type": "stream",
     "text": [
      "4 2931\n",
      "3 2979\n",
      "2 2481\n",
      "1 1752\n",
      "0 2331\n"
     ]
    }
   ],
   "source": [
    "plans_plot = plans[0, -1:]\n",
    "background = bg\n",
    "num_shadows = 4\n",
    "eps = 0\n",
    "\n",
    "video = []\n",
    "fg_masks = []\n",
    "opt_steps = config.gd_steps\n",
    "opt_int = 1\n",
    "traj_int = config.planning_horizon // num_shadows\n",
    "for plan in plans_plot[::opt_int]:\n",
    "    plan = plan[0, :-1:traj_int, :-3] # Take 5 latent states without actions\n",
    "    states = agent._state(plan).mode().numpy()\n",
    "    frames = render_states(vis_env, states)\n",
    "    dst = bg.copy()\n",
    "    fg_mask_combined = np.zeros_like(frames[0])\n",
    "    for i in range(frames.shape[0] - 1, -1, -1):\n",
    "        frame = frames[i]\n",
    "        fg_mask = (np.abs(frames[i] - background).astype(float).mean(-1) > eps)[..., None][..., [0,0,0]]\n",
    "#         fg_mask = frames[i] != background\n",
    "        print(i, fg_mask.sum())\n",
    "#         frame[1 - fg_mask] = 0.0\n",
    "        dst[fg_mask] = frame[fg_mask]\n",
    "        fg_mask_combined = np.logical_or(fg_mask_combined, fg_mask)\n",
    "video.append(dst)\n",
    "fg_masks.append(np.array(fg_mask_combined))\n",
    "\n",
    "video, masks = np.stack(video, 0), np.stack(fg_masks, 0)"
   ]
  },
  {
   "cell_type": "code",
   "execution_count": 341,
   "metadata": {},
   "outputs": [
    {
     "data": {
      "text/plain": [
       "<matplotlib.image.AxesImage at 0x7f1626cb8fd0>"
      ]
     },
     "execution_count": 341,
     "metadata": {},
     "output_type": "execute_result"
    },
    {
     "data": {
      "image/png": "[encoded data removed]",
      "text/plain": [
       "<Figure size 432x288 with 1 Axes>"
      ]
     },
     "metadata": {
      "needs_background": "light"
     },
     "output_type": "display_data"
    }
   ],
   "source": [
    "# video.shape\n",
    "plt.imshow(video[0])\n",
    "# plt.imshow(frames[0])\n",
    "# plt.imshow(bg - frames[0])\n",
    "# frames.shape\n",
    "\n",
    "# bg = np.load(config.logdir_colloc / \"background.npy\")\n",
    "# states = agent._state(plans[0,0,0,:,:-3]).mode().numpy()\n",
    "# frames = render_states(vis_env, states)"
   ]
  },
  {
   "cell_type": "code",
   "execution_count": 335,
   "metadata": {},
   "outputs": [
    {
     "data": {
      "text/plain": [
       "(64, 64, 3)"
      ]
     },
     "execution_count": 335,
     "metadata": {},
     "output_type": "execute_result"
    }
   ],
   "source": [
    "# plt.imshow(frames[10])\n",
    "# np.unique((frames[i] - background).mean(-1))\n",
    "fg_mask.shape\n",
    "\n",
    "# vis_env = make_env(config)._env._env"
   ]
  },
  {
   "cell_type": "code",
   "execution_count": 99,
   "metadata": {},
   "outputs": [],
   "source": [
    "import cv2\n",
    "plans = np.load(config.logdir_colloc / \"plans.npy\")\n",
    "i = -1\n",
    "plan = plans[0]\n",
    "video = agent._decode(plan[..., :-3]).mode().numpy()[:, 0]\n",
    "\n",
    "blend_video = (video + 0.5).mean(1)\n",
    "\n",
    "fname = f'visualization' + str(i)\n",
    "skvideo.io.vwrite(config.logdir_colloc / f'{fname}.gif', blend_video[:len(blend_video) // 2], inputdict={'-r': '6'})\n"
   ]
  },
  {
   "cell_type": "code",
   "execution_count": 107,
   "metadata": {},
   "outputs": [
    {
     "name": "stderr",
     "output_type": "stream",
     "text": [
      "Clipping input data to the valid range for imshow with RGB data ([0..1] for floats or [0..255] for integers).\n"
     ]
    },
    {
     "data": {
      "text/plain": [
       "<matplotlib.image.AxesImage at 0x7f15e48f4610>"
      ]
     },
     "execution_count": 107,
     "metadata": {},
     "output_type": "execute_result"
    },
    {
     "data": {
      "image/png": "[encoded data removed]",
      "text/plain": [
       "<Figure size 432x288 with 1 Axes>"
      ]
     },
     "metadata": {
      "needs_background": "light"
     },
     "output_type": "display_data"
    }
   ],
   "source": [
    "img = video[-1] + 0.5\n",
    "# blend = img[::].mean(0)\n",
    "# blend = img[5]\n",
    "plt.imshow(blend)"
   ]
  },
  {
   "cell_type": "code",
   "execution_count": 122,
   "metadata": {},
   "outputs": [
    {
     "data": {
      "text/plain": [
       "(1, 200, 1, 11, 233)"
      ]
     },
     "execution_count": 122,
     "metadata": {},
     "output_type": "execute_result"
    }
   ],
   "source": [
    "plans.shape"
   ]
  },
  {
   "cell_type": "code",
   "execution_count": null,
   "metadata": {},
   "outputs": [],
   "source": []
  },
  {
   "cell_type": "code",
   "execution_count": null,
   "metadata": {},
   "outputs": [],
   "source": []
  },
  {
   "cell_type": "code",
   "execution_count": null,
   "metadata": {},
   "outputs": [],
   "source": []
  },
  {
   "cell_type": "code",
   "execution_count": null,
   "metadata": {},
   "outputs": [],
   "source": []
  },
  {
   "cell_type": "code",
   "execution_count": null,
   "metadata": {},
   "outputs": [],
   "source": []
  },
  {
   "cell_type": "code",
   "execution_count": null,
   "metadata": {},
   "outputs": [],
   "source": []
  },
  {
   "cell_type": "code",
   "execution_count": null,
   "metadata": {},
   "outputs": [],
   "source": []
  },
  {
   "cell_type": "code",
   "execution_count": null,
   "metadata": {},
   "outputs": [],
   "source": []
  },
  {
   "cell_type": "code",
   "execution_count": null,
   "metadata": {},
   "outputs": [],
   "source": []
  },
  {
   "cell_type": "code",
   "execution_count": null,
   "metadata": {},
   "outputs": [],
   "source": []
  },
  {
   "cell_type": "code",
   "execution_count": null,
   "metadata": {},
   "outputs": [],
   "source": []
  },
  {
   "cell_type": "code",
   "execution_count": null,
   "metadata": {},
   "outputs": [],
   "source": []
  },
  {
   "cell_type": "code",
   "execution_count": null,
   "metadata": {},
   "outputs": [],
   "source": []
  },
  {
   "cell_type": "code",
   "execution_count": null,
   "metadata": {},
   "outputs": [],
   "source": []
  },
  {
   "cell_type": "code",
   "execution_count": null,
   "metadata": {},
   "outputs": [],
   "source": []
  },
  {
   "cell_type": "code",
   "execution_count": null,
   "metadata": {},
   "outputs": [],
   "source": []
  },
  {
   "cell_type": "code",
   "execution_count": null,
   "metadata": {},
   "outputs": [],
   "source": []
  }
 ],
 "metadata": {
  "kernelspec": {
   "display_name": "Python 3",
   "language": "python",
   "name": "python3"
  },
  "language_info": {
   "codemirror_mode": {
    "name": "ipython",
    "version": 3
   },
   "file_extension": ".py",
   "mimetype": "text/x-python",
   "name": "python",
   "nbconvert_exporter": "python",
   "pygments_lexer": "ipython3",
   "version": "3.7.7"
  }
 },
 "nbformat": 4,
 "nbformat_minor": 4
}
